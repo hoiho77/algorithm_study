{
 "cells": [
  {
   "cell_type": "code",
   "execution_count": 18,
   "metadata": {},
   "outputs": [],
   "source": [
    "import time\n",
    "\n",
    "def time_check(func) :\n",
    "    \n",
    "    def wrapper(*args, **kwargs) :\n",
    "        A = time.perf_counter()\n",
    "        result = func(*args, **kwargs)\n",
    "        B = time.perf_counter()\n",
    "        print(f\"실행시간:{B-A}\")\n",
    "        return result\n",
    "    \n",
    "    return wrapper"
   ]
  },
  {
   "cell_type": "code",
   "execution_count": 19,
   "metadata": {},
   "outputs": [
    {
     "name": "stdout",
     "output_type": "stream",
     "text": [
      "5\n",
      "R R R U D D\n",
      "실행시간:1.1900000117748277e-05\n",
      "[4, 3]\n"
     ]
    }
   ],
   "source": [
    "# p.111 예제 4-1\n",
    "@time_check\n",
    "def solution(n, lst):\n",
    "    data = [1,1]\n",
    "\n",
    "    for i in range(len(lst)):\n",
    "        x, y = data[0], data[1]\n",
    "        \n",
    "        if lst[i] == 'L' :\n",
    "            x += (-1)\n",
    "        elif lst[i] == 'R':\n",
    "            x += 1\n",
    "        elif lst[i] == 'U':\n",
    "            y += (-1)\n",
    "        elif lst[i] == 'D':\n",
    "            y += 1  \n",
    "        \n",
    "        if x < 1 or y < 1 or x > n or y> n :\n",
    "            continue\n",
    "        \n",
    "        data[0], data[1] = x, y\n",
    "        \n",
    "    return data\n",
    "\n",
    "if __name__ == '__main__':\n",
    "    n = int(input())\n",
    "    lst = input().strip().split(' ')\n",
    "    print(solution(n,lst))"
   ]
  },
  {
   "cell_type": "code",
   "execution_count": 51,
   "metadata": {},
   "outputs": [
    {
     "name": "stdout",
     "output_type": "stream",
     "text": [
      "123402\n",
      "실행시간:1.5800000255694613e-05\n",
      "LUCKY\n"
     ]
    }
   ],
   "source": [
    "#p.321 Q7\n",
    "\n",
    "@time_check\n",
    "def solution(n):\n",
    "    split_p = int(len(n)/2)\n",
    "    sum_1 = sum(list(map(int, [i for i in n[:split_p]])))\n",
    "    sum_2 = sum(list(map(int, [j for j in n[split_p:]])))\n",
    "    return \"LUCKY\" if sum_1 == sum_2 else \"READY\"\n",
    "\n",
    "if __name__ == '__main__':\n",
    "    n = input()\n",
    "    print(solution(n))"
   ]
  },
  {
   "cell_type": "code",
   "execution_count": 72,
   "metadata": {},
   "outputs": [
    {
     "name": "stdout",
     "output_type": "stream",
     "text": [
      "AJKDLSI412K4J9D\n",
      "실행시간:2.300000051036477e-05\n",
      "ADDIJJKKLS20\n"
     ]
    }
   ],
   "source": [
    "#p.322 Q8\n",
    "\n",
    "@time_check\n",
    "def solution(n):\n",
    "    sum_num = 0\n",
    "    sort_n = sorted(n)\n",
    "\n",
    "    for data in sort_n : \n",
    "        try : \n",
    "            sum_num += int(data)       \n",
    "        except :\n",
    "            index = sort_n.index(data)\n",
    "            break\n",
    "    \n",
    "    answer = ''.join(sort_n[index:])+ str(sum_num)\n",
    "    \n",
    "    return answer\n",
    "    \n",
    "if __name__ == '__main__':\n",
    "    n = input()\n",
    "    print(solution(n))"
   ]
  }
 ],
 "metadata": {
  "kernelspec": {
   "display_name": "Python 3",
   "language": "python",
   "name": "python3"
  },
  "language_info": {
   "codemirror_mode": {
    "name": "ipython",
    "version": 3
   },
   "file_extension": ".py",
   "mimetype": "text/x-python",
   "name": "python",
   "nbconvert_exporter": "python",
   "pygments_lexer": "ipython3",
   "version": "3.8.5"
  }
 },
 "nbformat": 4,
 "nbformat_minor": 4
}
